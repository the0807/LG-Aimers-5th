{
 "cells": [
  {
   "cell_type": "markdown",
   "id": "017e9265",
   "metadata": {},
   "source": [
    "# 제품 이상여부 판별 프로젝트 - AutoGluon + ADASYN"
   ]
  },
  {
   "cell_type": "markdown",
   "id": "79ee2a5d",
   "metadata": {},
   "source": [
    "# 1. 사전 준비 사항"
   ]
  },
  {
   "cell_type": "markdown",
   "id": "2b8341e8",
   "metadata": {},
   "source": [
    "## [ 모두 ] 필수 라이브러리 로드"
   ]
  },
  {
   "cell_type": "code",
   "execution_count": null,
   "id": "7dec06e5",
   "metadata": {},
   "outputs": [],
   "source": [
    "#!pip install -q autogluon\n",
    "#!pip install -q imblearn\n",
    "#!pip install -U ipywidgets"
   ]
  },
  {
   "cell_type": "code",
   "execution_count": null,
   "id": "a315cc58",
   "metadata": {},
   "outputs": [],
   "source": [
    "import os\n",
    "import shutil\n",
    "import pandas as pd\n",
    "\n",
    "from sklearn.model_selection import StratifiedKFold\n",
    "from sklearn.preprocessing import OneHotEncoder\n",
    "from sklearn.metrics import f1_score\n",
    "\n",
    "from autogluon.tabular import TabularDataset, TabularPredictor\n",
    "from autogluon.core.metrics import make_scorer\n",
    "\n",
    "from imblearn.over_sampling import ADASYN"
   ]
  },
  {
   "cell_type": "markdown",
   "id": "2652c436",
   "metadata": {},
   "source": [
    "## 디스크 정리\n",
    "### 필요 시 사용"
   ]
  },
  {
   "cell_type": "code",
   "execution_count": null,
   "id": "ebc44a6d",
   "metadata": {},
   "outputs": [],
   "source": [
    "total, used, free = shutil.disk_usage(\"/\")\n",
    "\n",
    "used_percent = (used / total) * 100\n",
    "\n",
    "print(f\"Total: {total // (2**30)} GB\")\n",
    "print(f\"Used: {used // (2**30)} GB ({used_percent:.2f}%)\")"
   ]
  },
  {
   "cell_type": "code",
   "execution_count": null,
   "id": "44fe8a32",
   "metadata": {},
   "outputs": [],
   "source": [
    "directory = \"AutogluonModels\"\n",
    "\n",
    "if os.path.exists(directory) and os.path.isdir(directory):\n",
    "    shutil.rmtree(directory)\n",
    "    print(f\"'{directory}' 디렉토리가 삭제되었습니다.\")\n",
    "else:\n",
    "    print(f\"'{directory}' 디렉토리가 존재하지 않습니다.\")"
   ]
  },
  {
   "cell_type": "code",
   "execution_count": null,
   "id": "540c9ef2",
   "metadata": {},
   "outputs": [],
   "source": [
    "directory = \"sampled_data\"\n",
    "\n",
    "if os.path.exists(directory) and os.path.isdir(directory):\n",
    "    shutil.rmtree(directory)\n",
    "    print(f\"'{directory}' 디렉토리가 삭제되었습니다.\")\n",
    "else:\n",
    "    print(f\"'{directory}' 디렉토리가 존재하지 않습니다.\")"
   ]
  },
  {
   "cell_type": "markdown",
   "id": "4d054e30",
   "metadata": {},
   "source": [
    "## 데이터 읽어오기"
   ]
  },
  {
   "cell_type": "code",
   "execution_count": null,
   "id": "fc0b4d80",
   "metadata": {},
   "outputs": [],
   "source": [
    "ROOT_DIR = \"data\"\n",
    "NEW_ROOT_DIR = \"sampled_data\"\n",
    "RANDOM_STATE = 110\n",
    "\n",
    "# Load data\n",
    "train_data = pd.read_csv(os.path.join(ROOT_DIR, \"train.csv\"))\n",
    "train_data"
   ]
  },
  {
   "cell_type": "markdown",
   "id": "9b1351d2",
   "metadata": {},
   "source": [
    "# 2. Preprocessing"
   ]
  },
  {
   "cell_type": "code",
   "execution_count": null,
   "id": "80b2552e",
   "metadata": {},
   "outputs": [],
   "source": [
    "# 데이터 오류 수정\n",
    "\n",
    "# 'OK' 값을 결측치로 변환할 열들\n",
    "columns_to_replace = [\n",
    "    'HEAD NORMAL COORDINATE X AXIS(Stage1) Collect Result_Dam',\n",
    "    'HEAD NORMAL COORDINATE X AXIS(Stage1) Collect Result_Fill1',\n",
    "    'HEAD NORMAL COORDINATE X AXIS(Stage1) Collect Result_Fill2'\n",
    "]\n",
    "## 각 열에 대해 'OK' 값을 결측치로 변환\n",
    "train_data[columns_to_replace] = train_data[columns_to_replace].replace('OK', pd.NA)\n",
    "## 수치형으로 변환\n",
    "train_data[columns_to_replace] = train_data[columns_to_replace].apply(pd.to_numeric)"
   ]
  },
  {
   "cell_type": "markdown",
   "id": "f9234870",
   "metadata": {},
   "source": [
    "## 결측치를 가지는 변수 삭제"
   ]
  },
  {
   "cell_type": "code",
   "execution_count": null,
   "id": "96b061d1",
   "metadata": {},
   "outputs": [],
   "source": [
    "# drop NaN\n",
    "train_data = train_data.dropna(axis=1, how='any')"
   ]
  },
  {
   "cell_type": "markdown",
   "id": "066326fd",
   "metadata": {},
   "source": [
    "## 고유값을 가지는 변수 삭제"
   ]
  },
  {
   "cell_type": "code",
   "execution_count": null,
   "id": "7e34c14f",
   "metadata": {},
   "outputs": [],
   "source": [
    "train_data = train_data.drop(columns=train_data.columns[train_data.nunique() == 1])"
   ]
  },
  {
   "cell_type": "markdown",
   "id": "4dfc2bfd",
   "metadata": {},
   "source": [
    "## 중복 변수 제거"
   ]
  },
  {
   "cell_type": "code",
   "execution_count": null,
   "id": "d2b761ae",
   "metadata": {},
   "outputs": [],
   "source": [
    "# 중복 변수 제거\n",
    "columns_to_drop = [\n",
    "    #'Stage1 Circle2 Distance Speed Collect Result_Dam',\n",
    "    'Stage1 Circle3 Distance Speed Collect Result_Dam', \n",
    "    'Stage1 Circle4 Distance Speed Collect Result_Dam', \n",
    "    \n",
    "    #'Stage2 Circle2 Distance Speed Collect Result_Dam', \n",
    "    'Stage2 Circle3 Distance Speed Collect Result_Dam', \n",
    "    'Stage2 Circle4 Distance Speed Collect Result_Dam', \n",
    "    \n",
    "    #'Stage3 Circle2 Distance Speed Collect Result_Dam', \n",
    "    'Stage3 Circle3 Distance Speed Collect Result_Dam', \n",
    "    'Stage3 Circle4 Distance Speed Collect Result_Dam',\n",
    "\n",
    "    #'Model.Suffix_Dam', \n",
    "    'Model.Suffix_AutoClave', \n",
    "    'Model.Suffix_Fill1', \n",
    "    'Model.Suffix_Fill2',\n",
    "    \n",
    "    #'Workorder_Dam', \n",
    "    'Workorder_AutoClave', \n",
    "    'Workorder_Fill1', \n",
    "    'Workorder_Fill2'\n",
    "]\n",
    "\n",
    "train_data = train_data.drop(columns=columns_to_drop)"
   ]
  },
  {
   "cell_type": "code",
   "execution_count": null,
   "id": "41332d7b",
   "metadata": {},
   "outputs": [],
   "source": [
    "train_df = train_data\n",
    "train_df"
   ]
  },
  {
   "cell_type": "markdown",
   "id": "6cd95814",
   "metadata": {},
   "source": [
    "## Feature Selection"
   ]
  },
  {
   "cell_type": "code",
   "execution_count": null,
   "id": "fc40e37d",
   "metadata": {},
   "outputs": [],
   "source": [
    "# train 데이터셋을 feature와 target으로 나누기\n",
    "train_x = train_df.drop('target', axis=1)\n",
    "train_y = train_df['target']"
   ]
  },
  {
   "cell_type": "code",
   "execution_count": null,
   "id": "1e4b2150",
   "metadata": {},
   "outputs": [],
   "source": [
    "# feature를 범주형과 수치형으로 나누기\n",
    "categorical = train_x.select_dtypes(include=['object', 'category']).columns\n",
    "numerical = train_x.select_dtypes(include=['number']).columns"
   ]
  },
  {
   "cell_type": "code",
   "execution_count": null,
   "id": "f8edb4d1",
   "metadata": {},
   "outputs": [],
   "source": [
    "# 범주형 feature들 간의 관계 확인\n",
    "def cat_relation(df):\n",
    "    relation = {}\n",
    "    \n",
    "    for col1 in categorical:\n",
    "        unique = df[col1].unique()\n",
    "        \n",
    "        for value in unique:\n",
    "            a = df[df[col1] == value]\n",
    "            \n",
    "            if len(a) <= 1:\n",
    "                continue\n",
    "            \n",
    "            for col2 in categorical:\n",
    "                if col2 == col1:\n",
    "                    continue\n",
    "                \n",
    "                unique2 = a[col2].unique()\n",
    "                \n",
    "                if len(unique2) == 1:\n",
    "                    relation[col1] = col2\n",
    "    \n",
    "    return relation\n",
    "\n",
    "# 수치형 feature들 간의 관계 확인\n",
    "def num_relation(df):\n",
    "    relation = {}\n",
    "    \n",
    "    for col1 in numerical:\n",
    "        group_size = df.groupby(col1).size()\n",
    "        \n",
    "        if group_size.size >= len(df):\n",
    "            continue\n",
    "        \n",
    "        for col2 in numerical:\n",
    "            if col2 == col1:\n",
    "                continue\n",
    "            \n",
    "            unique = df.groupby(col1)[col2].nunique().max()\n",
    "            \n",
    "            if unique == 1:\n",
    "                relation[col1] = col2\n",
    "    \n",
    "    return relation\n",
    "\n",
    "# feature 선택\n",
    "def select_features(aa):\n",
    "    features = set()\n",
    "    all_features = set()\n",
    "\n",
    "    for key, value in aa.items():\n",
    "        if key not in all_features and value not in all_features:\n",
    "            features.update([key, value])\n",
    "            all_features.update([key, value])\n",
    "    \n",
    "    selected_features = {var for var in features \n",
    "                           if not any(var in rel for rel in aa.values())}\n",
    "    \n",
    "    return list(selected_features)"
   ]
  },
  {
   "cell_type": "code",
   "execution_count": null,
   "id": "9f9fa774",
   "metadata": {},
   "outputs": [],
   "source": [
    "cat_relationship = cat_relation(train_x)\n",
    "num_relationship = num_relation(train_x)\n",
    "\n",
    "selected_categorical = select_features(cat_relationship)\n",
    "selected_numerical = select_features(num_relationship)"
   ]
  },
  {
   "cell_type": "code",
   "execution_count": null,
   "id": "a4bd9ef9",
   "metadata": {},
   "outputs": [],
   "source": [
    "# 전체 feature 집합과 관계가 있는 feature\n",
    "all_features = set(train_x.columns)\n",
    "cat_related = set(cat_relationship.keys()).union(set(cat_relationship.values()))\n",
    "num_related = set(num_relationship.keys()).union(set(num_relationship.values()))\n",
    "related_features = cat_related.union(num_related)\n",
    "\n",
    "# 관계가 없는 feature\n",
    "unrelated_features = all_features - related_features\n",
    "\n",
    "# 최종 선택된 feature 집합 생성\n",
    "features = set(selected_categorical).union(set(selected_numerical))\n",
    "selected_features = list(features.union(unrelated_features))"
   ]
  },
  {
   "cell_type": "code",
   "execution_count": null,
   "id": "3644b650",
   "metadata": {},
   "outputs": [],
   "source": [
    "print(f'{len(selected_features)}개')\n",
    "print(selected_features)"
   ]
  },
  {
   "cell_type": "code",
   "execution_count": null,
   "id": "94f48b35",
   "metadata": {},
   "outputs": [],
   "source": [
    "df = train_x[selected_features].copy()\n",
    "\n",
    "# workorder의 앞 3자리만 사용 (데이터 크기를 줄이는 역할)\n",
    "df['Workorder_Dam'] = df['Workorder_Dam'].str[:3]"
   ]
  },
  {
   "cell_type": "markdown",
   "id": "3362a384",
   "metadata": {},
   "source": [
    "## One-Hot Encoding"
   ]
  },
  {
   "cell_type": "code",
   "execution_count": null,
   "id": "ae941bc8",
   "metadata": {},
   "outputs": [],
   "source": [
    "categorical = df.select_dtypes(include=['object', 'category'])\n",
    "numerical = df.select_dtypes(include=['number'])\n",
    "\n",
    "encoder = OneHotEncoder(sparse_output=False, drop='first')\n",
    "\n",
    "encoded_cat = encoder.fit_transform(categorical)\n",
    "\n",
    "encoded_df = pd.DataFrame(encoded_cat, columns=encoder.get_feature_names_out(categorical.columns))\n",
    "\n",
    "train_x = pd.concat([numerical, encoded_df], axis=1)"
   ]
  },
  {
   "cell_type": "code",
   "execution_count": null,
   "id": "1fa5ede9",
   "metadata": {},
   "outputs": [],
   "source": [
    "train_x"
   ]
  },
  {
   "cell_type": "markdown",
   "id": "3d4fea9c",
   "metadata": {},
   "source": [
    "## 불균형 데이터 샘플링 (ADASYN + K-Fold)"
   ]
  },
  {
   "cell_type": "code",
   "execution_count": null,
   "id": "70d09c6c",
   "metadata": {},
   "outputs": [],
   "source": [
    "os.makedirs('sampled_data', exist_ok=True)\n",
    "\n",
    "kf = StratifiedKFold(n_splits=5, shuffle=True, random_state=RANDOM_STATE)\n",
    "\n",
    "# K-Fold 교차 검증\n",
    "for fold, (train_idx, val_idx) in enumerate(kf.split(train_x, train_y)):\n",
    "    # 데이터 분할\n",
    "    X_train, X_val = train_x.iloc[train_idx], train_x.iloc[val_idx]\n",
    "    y_train, y_val = train_y.iloc[train_idx], train_y.iloc[val_idx]\n",
    "\n",
    "    # ADASYN 적용\n",
    "    adasyn = ADASYN(random_state=RANDOM_STATE)\n",
    "    X_adasyn_train, y_adasyn_train = adasyn.fit_resample(X_train, y_train)\n",
    "\n",
    "    # DataFrame으로 변환\n",
    "    X_adasyn_train_df = pd.DataFrame(X_adasyn_train, columns=train_x.columns)\n",
    "    y_adasyn_train_df = pd.DataFrame(y_adasyn_train, columns=['target'])\n",
    "    X_val_df = pd.DataFrame(X_val, columns=train_x.columns)\n",
    "    y_val_df = pd.DataFrame(y_val, columns=['target'])\n",
    "\n",
    "    # 학습용 데이터 저장\n",
    "    train_df = pd.concat([X_adasyn_train_df, y_adasyn_train_df], axis=1)\n",
    "    train_df.to_csv(f'sampled_data/train_{fold + 1}.csv', index=False)\n",
    "\n",
    "    # 검증용 데이터 저장\n",
    "    val_df = pd.concat([X_val_df, y_val_df], axis=1)\n",
    "    val_df.to_csv(f'sampled_data/val_{fold + 1}.csv', index=False)"
   ]
  },
  {
   "cell_type": "markdown",
   "id": "d7ba900b",
   "metadata": {},
   "source": [
    "## Test 데이터 Preprocessing"
   ]
  },
  {
   "cell_type": "code",
   "execution_count": null,
   "id": "0a5b23aa",
   "metadata": {},
   "outputs": [],
   "source": [
    "test_data = pd.read_csv(\"data/test.csv\")"
   ]
  },
  {
   "cell_type": "code",
   "execution_count": null,
   "id": "96932fd8",
   "metadata": {},
   "outputs": [],
   "source": [
    "test_x = test_data[selected_features].copy()\n",
    "\n",
    "# workorder의 앞 3자리만 사용 (데이터 크기를 줄이는 역할)\n",
    "test_x['Workorder_Dam'] = test_x['Workorder_Dam'].str[:3]"
   ]
  },
  {
   "cell_type": "code",
   "execution_count": null,
   "id": "e1442e8a",
   "metadata": {},
   "outputs": [],
   "source": [
    "categorical = test_x.select_dtypes(include=['object', 'category'])\n",
    "numerical = test_x.select_dtypes(include=['number'])\n",
    "\n",
    "encoder = OneHotEncoder(sparse_output=False, drop='first')\n",
    "\n",
    "encoded_cat = encoder.fit_transform(categorical)\n",
    "\n",
    "encoded_df = pd.DataFrame(encoded_cat, columns=encoder.get_feature_names_out(categorical.columns))\n",
    "\n",
    "df_test = pd.concat([numerical, encoded_df], axis=1)"
   ]
  },
  {
   "cell_type": "code",
   "execution_count": null,
   "id": "39ab408b",
   "metadata": {},
   "outputs": [],
   "source": [
    "df_test"
   ]
  },
  {
   "cell_type": "code",
   "execution_count": null,
   "id": "de45bd2f",
   "metadata": {},
   "outputs": [],
   "source": [
    "df_test.to_csv('sampled_data/preprocessed_test.csv', index=False)"
   ]
  },
  {
   "cell_type": "markdown",
   "id": "e2e84a65",
   "metadata": {},
   "source": [
    "# 3. Model"
   ]
  },
  {
   "cell_type": "markdown",
   "id": "9fe74ea6",
   "metadata": {},
   "source": [
    "## preprocessed_test 데이터 불러오기"
   ]
  },
  {
   "cell_type": "code",
   "execution_count": null,
   "id": "89ed0d84",
   "metadata": {},
   "outputs": [],
   "source": [
    "test_df = pd.read_csv('sampled_data/preprocessed_test.csv')\n",
    "test_df"
   ]
  },
  {
   "cell_type": "markdown",
   "id": "dfbe9235",
   "metadata": {},
   "source": [
    "## 제출용 submission 데이터 불러오기"
   ]
  },
  {
   "cell_type": "code",
   "execution_count": null,
   "id": "99e89c86",
   "metadata": {},
   "outputs": [],
   "source": [
    "sub_df = pd.read_csv(\"submission.csv\")\n",
    "sub_df"
   ]
  },
  {
   "cell_type": "markdown",
   "id": "241860c1",
   "metadata": {},
   "source": [
    "## f1_scorer 생성"
   ]
  },
  {
   "cell_type": "code",
   "execution_count": null,
   "id": "22587319",
   "metadata": {},
   "outputs": [],
   "source": [
    "# f1_scorer 생성\n",
    "f1_scorer = make_scorer(\n",
    "    name='f1',\n",
    "    score_func=f1_score,\n",
    "    greater_is_better=True,\n",
    "    needs_class=True,\n",
    "    optimum=1,\n",
    "    pos_label=0\n",
    ")"
   ]
  },
  {
   "cell_type": "markdown",
   "id": "f8ad8c4a",
   "metadata": {},
   "source": [
    "## Model 학습"
   ]
  },
  {
   "cell_type": "code",
   "execution_count": null,
   "id": "9e3c8956",
   "metadata": {},
   "outputs": [],
   "source": [
    "df_list = []\n",
    "threshold_list = []\n",
    "\n",
    "# Fold 별로 학습\n",
    "for fold in range(1, 6):\n",
    "    train_df = pd.read_csv(f'sampled_data/train_{fold}.csv')\n",
    "    val_df = pd.read_csv(f'sampled_data/val_{fold}.csv')\n",
    "    \n",
    "    train = TabularDataset(train_df)\n",
    "    val = TabularDataset(val_df)\n",
    "\n",
    "    predictor = TabularPredictor(label='target', eval_metric=f1_scorer).fit(train, num_cpus=4)\n",
    "    \n",
    "    test_pred = predictor.predict_proba(test_df)\n",
    "    sub_df['target_proba'] = test_pred.iloc[:, 0]\n",
    "    df_list.append(sub_df[['Set ID', 'target_proba']])\n",
    "    \n",
    "    threshold = predictor.calibrate_decision_threshold(val, f1_scorer)\n",
    "    threshold_list.append(threshold)"
   ]
  },
  {
   "cell_type": "code",
   "execution_count": null,
   "id": "2d5ff1f8",
   "metadata": {},
   "outputs": [],
   "source": [
    "df_list"
   ]
  },
  {
   "cell_type": "markdown",
   "id": "9d591e7f",
   "metadata": {},
   "source": [
    "## Fold(5개)에 대한 임계값 평균 구하기"
   ]
  },
  {
   "cell_type": "code",
   "execution_count": null,
   "id": "fd958f52",
   "metadata": {},
   "outputs": [],
   "source": [
    "threshold_list"
   ]
  },
  {
   "cell_type": "code",
   "execution_count": null,
   "id": "5076cb6c",
   "metadata": {},
   "outputs": [],
   "source": [
    "avr = sum(threshold_list) / len(threshold_list)\n",
    "result = 1 - avr\n",
    "\n",
    "print(result)"
   ]
  },
  {
   "cell_type": "markdown",
   "id": "d8166189",
   "metadata": {},
   "source": [
    "## 앙상블 (Soft Voting)"
   ]
  },
  {
   "cell_type": "code",
   "execution_count": null,
   "id": "58295140",
   "metadata": {},
   "outputs": [],
   "source": [
    "merged = df_list[0][['Set ID', 'target_proba']].copy()\n",
    "\n",
    "# df를 'Set ID' 기준으로 병합\n",
    "for i, df in enumerate(df_list[1:], start=2):\n",
    "    merged = merged.merge(df[['Set ID', 'target_proba']], on='Set ID', suffixes=(f'_{i-1}', f'_{i}'))\n",
    "\n",
    "# Soft Voting을 위해 평균 계산\n",
    "proba_cols = [col for col in merged.columns if 'target_proba' in col]\n",
    "merged['average_target'] = merged[proba_cols].mean(axis=1)\n",
    "\n",
    "# Fold에 대한 임계값을 기준으로 평균과 비교\n",
    "merged['final_target'] = merged['average_target'].apply(lambda x: 'Normal' if x < result else 'AbNormal')\n",
    "\n",
    "submission = merged[['Set ID', 'final_target', 'average_target']]\n",
    "submission.columns = ['Set ID', 'target', 'target_proba']\n",
    "\n",
    "submission_df = submission.copy()"
   ]
  },
  {
   "cell_type": "code",
   "execution_count": null,
   "id": "c6181977",
   "metadata": {},
   "outputs": [],
   "source": [
    "submission_df.drop('target_proba', axis=1, inplace=True)\n",
    "\n",
    "submission_df['target'].value_counts()"
   ]
  },
  {
   "cell_type": "code",
   "execution_count": null,
   "id": "6610d6a0",
   "metadata": {},
   "outputs": [],
   "source": [
    "submission_df"
   ]
  },
  {
   "cell_type": "markdown",
   "id": "23803573",
   "metadata": {},
   "source": [
    "# 4. 제출"
   ]
  },
  {
   "cell_type": "code",
   "execution_count": null,
   "id": "e35c2428",
   "metadata": {},
   "outputs": [],
   "source": [
    "submission_df.to_csv('submission.csv', index=False)"
   ]
  },
  {
   "cell_type": "markdown",
   "id": "ec7867ce",
   "metadata": {},
   "source": [
    "**우측 상단의 제출 버튼을 클릭해 결과를 확인하세요**\n"
   ]
  },
  {
   "cell_type": "markdown",
   "id": "d30ac420",
   "metadata": {},
   "source": [
    "## 학습된 Model, data 압축"
   ]
  },
  {
   "cell_type": "code",
   "execution_count": null,
   "id": "04a09aaa",
   "metadata": {},
   "outputs": [],
   "source": [
    "shutil.make_archive('AutogluonModels', 'zip', 'AutogluonModels')"
   ]
  },
  {
   "cell_type": "code",
   "execution_count": null,
   "id": "83c2fa03",
   "metadata": {},
   "outputs": [],
   "source": [
    "shutil.make_archive('sampled_data', 'zip', 'sampled_data')"
   ]
  }
 ],
 "metadata": {
  "kernelspec": {
   "display_name": "Python 3 (ipykernel)",
   "language": "python",
   "name": "python3"
  },
  "language_info": {
   "codemirror_mode": {
    "name": "ipython",
    "version": 3
   },
   "file_extension": ".py",
   "mimetype": "text/x-python",
   "name": "python",
   "nbconvert_exporter": "python",
   "pygments_lexer": "ipython3",
   "version": "3.10.13"
  }
 },
 "nbformat": 4,
 "nbformat_minor": 5
}
